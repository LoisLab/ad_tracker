{
 "cells": [
  {
   "cell_type": "code",
   "execution_count": 3,
   "metadata": {},
   "outputs": [
    {
     "name": "stdout",
     "output_type": "stream",
     "text": [
      "The New York Times - Breaking News, World News & Multimedia\n"
     ]
    }
   ],
   "source": [
    "from selenium import webdriver\n",
    "d = webdriver.Chrome()\n",
    "d.get(\"http://nytimes.com\")\n",
    "print(d.title)\n",
    "d.close()"
   ]
  },
  {
   "cell_type": "code",
   "execution_count": 16,
   "metadata": {},
   "outputs": [
    {
     "name": "stdout",
     "output_type": "stream",
     "text": [
      "{'height': 0, 'width': 0, 'x': 0, 'y': 0}\n",
      "{'height': 0, 'width': 0, 'x': 0, 'y': 0}\n",
      "{'height': 250, 'width': 970, 'x': 431.5, 'y': 15}\n",
      "{'height': 0, 'width': 0, 'x': 0, 'y': 0}\n",
      "{'height': 1, 'width': 1, 'x': -10, 'y': -10}\n",
      "{'height': 150, 'width': 300, 'x': 0, 'y': 0}\n",
      "{'height': 0, 'width': 0, 'x': 0, 'y': 0}\n",
      "{'height': 0, 'width': 0, 'x': 0, 'y': 0}\n",
      "{'height': 0, 'width': 0, 'x': 0, 'y': 0}\n"
     ]
    }
   ],
   "source": [
    "from selenium import webdriver\n",
    "from selenium.webdriver.common.keys import Keys\n",
    "from selenium.webdriver.common.by import By\n",
    "import time\n",
    "\n",
    "driver = webdriver.Chrome()\n",
    "driver.maximize_window()\n",
    "\n",
    "driver.get(\"http://nytimes.com\")\n",
    "time.sleep(10)\n",
    "seq = driver.find_elements_by_tag_name('iframe')\n",
    "\n",
    "for index in range(len(seq)):\n",
    "    iframe = driver.find_elements_by_tag_name('iframe')[index]\n",
    "    print(iframe.rect)\n",
    "\n",
    "driver.switch_to.default_content()\n",
    "driver.close()"
   ]
  },
  {
   "cell_type": "code",
   "execution_count": null,
   "metadata": {},
   "outputs": [],
   "source": []
  }
 ],
 "metadata": {
  "kernelspec": {
   "display_name": "Python 3",
   "language": "python",
   "name": "python3"
  },
  "language_info": {
   "codemirror_mode": {
    "name": "ipython",
    "version": 3
   },
   "file_extension": ".py",
   "mimetype": "text/x-python",
   "name": "python",
   "nbconvert_exporter": "python",
   "pygments_lexer": "ipython3",
   "version": "3.8.2"
  }
 },
 "nbformat": 4,
 "nbformat_minor": 4
}
